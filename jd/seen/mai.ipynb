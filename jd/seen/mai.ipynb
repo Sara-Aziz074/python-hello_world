{
 "cells": [
  {
   "cell_type": "markdown",
   "metadata": {},
   "source": [
    "#Hello Wrold"
   ]
  },
  {
   "cell_type": "code",
   "execution_count": 1,
   "metadata": {},
   "outputs": [
    {
     "name": "stdout",
     "output_type": "stream",
     "text": [
      "hello world\n"
     ]
    }
   ],
   "source": [
    "print(\"hello world\")"
   ]
  },
  {
   "cell_type": "markdown",
   "metadata": {},
   "source": [
    "#String Variable "
   ]
  },
  {
   "cell_type": "code",
   "execution_count": 3,
   "metadata": {},
   "outputs": [
    {
     "name": "stdout",
     "output_type": "stream",
     "text": [
      "Sara\n"
     ]
    }
   ],
   "source": [
    "f_name : str = \"Sara\"\n",
    "print(f_name)"
   ]
  },
  {
   "cell_type": "code",
   "execution_count": 8,
   "metadata": {},
   "outputs": [
    {
     "name": "stdout",
     "output_type": "stream",
     "text": [
      "Sara\n",
      "Aziz\n",
      " Name: Sara Aziz\n"
     ]
    }
   ],
   "source": [
    "f_name : str = \"Sara\"\n",
    "l_name : str = \"Aziz\"\n",
    "print(f_name) \n",
    "print(l_name)\n",
    "full_name : str = f\" Name: {f_name} {l_name}\"\n",
    "print(full_name )"
   ]
  }
 ],
 "metadata": {
  "kernelspec": {
   "display_name": "jd",
   "language": "python",
   "name": "jd"
  },
  "language_info": {
   "codemirror_mode": {
    "name": "ipython",
    "version": 3
   },
   "file_extension": ".py",
   "mimetype": "text/x-python",
   "name": "python",
   "nbconvert_exporter": "python",
   "pygments_lexer": "ipython3",
   "version": "3.12.3"
  }
 },
 "nbformat": 4,
 "nbformat_minor": 2
}
